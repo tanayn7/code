{
  "cells": [
    {
      "cell_type": "code",
      "execution_count": null,
      "metadata": {
        "id": "dec08729"
      },
      "outputs": [],
      "source": [
        "import tensorflow as tf\n",
        "import pandas as pd\n",
        "from tensorflow.keras.datasets import boston_housing\n",
        "from sklearn import preprocessing"
      ],
      "id": "dec08729"
    },
    {
      "cell_type": "code",
      "execution_count": null,
      "metadata": {
        "colab": {
          "base_uri": "https://localhost:8080/"
        },
        "id": "d857ed5f",
        "outputId": "82c35f69-d716-43ce-f1a2-e6a1088c5967"
      },
      "outputs": [
        {
          "name": "stdout",
          "output_type": "stream",
          "text": [
            "Downloading data from https://storage.googleapis.com/tensorflow/tf-keras-datasets/boston_housing.npz\n",
            "57026/57026 [==============================] - 0s 0us/step\n"
          ]
        }
      ],
      "source": [
        "(train_x,train_y),(test_x,test_y)=boston_housing.load_data()"
      ],
      "id": "d857ed5f"
    },
    {
      "cell_type": "code",
      "execution_count": null,
      "metadata": {
        "colab": {
          "base_uri": "https://localhost:8080/"
        },
        "id": "6a7f0219",
        "outputId": "60382fe0-4a93-4cde-a53a-d2b520ec2c12"
      },
      "outputs": [
        {
          "data": {
            "text/plain": [
              "((array([[1.23247e+00, 0.00000e+00, 8.14000e+00, ..., 2.10000e+01,\n",
              "          3.96900e+02, 1.87200e+01],\n",
              "         [2.17700e-02, 8.25000e+01, 2.03000e+00, ..., 1.47000e+01,\n",
              "          3.95380e+02, 3.11000e+00],\n",
              "         [4.89822e+00, 0.00000e+00, 1.81000e+01, ..., 2.02000e+01,\n",
              "          3.75520e+02, 3.26000e+00],\n",
              "         ...,\n",
              "         [3.46600e-02, 3.50000e+01, 6.06000e+00, ..., 1.69000e+01,\n",
              "          3.62250e+02, 7.83000e+00],\n",
              "         [2.14918e+00, 0.00000e+00, 1.95800e+01, ..., 1.47000e+01,\n",
              "          2.61950e+02, 1.57900e+01],\n",
              "         [1.43900e-02, 6.00000e+01, 2.93000e+00, ..., 1.56000e+01,\n",
              "          3.76700e+02, 4.38000e+00]]),\n",
              "  array([15.2, 42.3, 50. , 21.1, 17.7, 18.5, 11.3, 15.6, 15.6, 14.4, 12.1,\n",
              "         17.9, 23.1, 19.9, 15.7,  8.8, 50. , 22.5, 24.1, 27.5, 10.9, 30.8,\n",
              "         32.9, 24. , 18.5, 13.3, 22.9, 34.7, 16.6, 17.5, 22.3, 16.1, 14.9,\n",
              "         23.1, 34.9, 25. , 13.9, 13.1, 20.4, 20. , 15.2, 24.7, 22.2, 16.7,\n",
              "         12.7, 15.6, 18.4, 21. , 30.1, 15.1, 18.7,  9.6, 31.5, 24.8, 19.1,\n",
              "         22. , 14.5, 11. , 32. , 29.4, 20.3, 24.4, 14.6, 19.5, 14.1, 14.3,\n",
              "         15.6, 10.5,  6.3, 19.3, 19.3, 13.4, 36.4, 17.8, 13.5, 16.5,  8.3,\n",
              "         14.3, 16. , 13.4, 28.6, 43.5, 20.2, 22. , 23. , 20.7, 12.5, 48.5,\n",
              "         14.6, 13.4, 23.7, 50. , 21.7, 39.8, 38.7, 22.2, 34.9, 22.5, 31.1,\n",
              "         28.7, 46. , 41.7, 21. , 26.6, 15. , 24.4, 13.3, 21.2, 11.7, 21.7,\n",
              "         19.4, 50. , 22.8, 19.7, 24.7, 36.2, 14.2, 18.9, 18.3, 20.6, 24.6,\n",
              "         18.2,  8.7, 44. , 10.4, 13.2, 21.2, 37. , 30.7, 22.9, 20. , 19.3,\n",
              "         31.7, 32. , 23.1, 18.8, 10.9, 50. , 19.6,  5. , 14.4, 19.8, 13.8,\n",
              "         19.6, 23.9, 24.5, 25. , 19.9, 17.2, 24.6, 13.5, 26.6, 21.4, 11.9,\n",
              "         22.6, 19.6,  8.5, 23.7, 23.1, 22.4, 20.5, 23.6, 18.4, 35.2, 23.1,\n",
              "         27.9, 20.6, 23.7, 28. , 13.6, 27.1, 23.6, 20.6, 18.2, 21.7, 17.1,\n",
              "          8.4, 25.3, 13.8, 22.2, 18.4, 20.7, 31.6, 30.5, 20.3,  8.8, 19.2,\n",
              "         19.4, 23.1, 23. , 14.8, 48.8, 22.6, 33.4, 21.1, 13.6, 32.2, 13.1,\n",
              "         23.4, 18.9, 23.9, 11.8, 23.3, 22.8, 19.6, 16.7, 13.4, 22.2, 20.4,\n",
              "         21.8, 26.4, 14.9, 24.1, 23.8, 12.3, 29.1, 21. , 19.5, 23.3, 23.8,\n",
              "         17.8, 11.5, 21.7, 19.9, 25. , 33.4, 28.5, 21.4, 24.3, 27.5, 33.1,\n",
              "         16.2, 23.3, 48.3, 22.9, 22.8, 13.1, 12.7, 22.6, 15. , 15.3, 10.5,\n",
              "         24. , 18.5, 21.7, 19.5, 33.2, 23.2,  5. , 19.1, 12.7, 22.3, 10.2,\n",
              "         13.9, 16.3, 17. , 20.1, 29.9, 17.2, 37.3, 45.4, 17.8, 23.2, 29. ,\n",
              "         22. , 18. , 17.4, 34.6, 20.1, 25. , 15.6, 24.8, 28.2, 21.2, 21.4,\n",
              "         23.8, 31. , 26.2, 17.4, 37.9, 17.5, 20. ,  8.3, 23.9,  8.4, 13.8,\n",
              "          7.2, 11.7, 17.1, 21.6, 50. , 16.1, 20.4, 20.6, 21.4, 20.6, 36.5,\n",
              "          8.5, 24.8, 10.8, 21.9, 17.3, 18.9, 36.2, 14.9, 18.2, 33.3, 21.8,\n",
              "         19.7, 31.6, 24.8, 19.4, 22.8,  7.5, 44.8, 16.8, 18.7, 50. , 50. ,\n",
              "         19.5, 20.1, 50. , 17.2, 20.8, 19.3, 41.3, 20.4, 20.5, 13.8, 16.5,\n",
              "         23.9, 20.6, 31.5, 23.3, 16.8, 14. , 33.8, 36.1, 12.8, 18.3, 18.7,\n",
              "         19.1, 29. , 30.1, 50. , 50. , 22. , 11.9, 37.6, 50. , 22.7, 20.8,\n",
              "         23.5, 27.9, 50. , 19.3, 23.9, 22.6, 15.2, 21.7, 19.2, 43.8, 20.3,\n",
              "         33.2, 19.9, 22.5, 32.7, 22. , 17.1, 19. , 15. , 16.1, 25.1, 23.7,\n",
              "         28.7, 37.2, 22.6, 16.4, 25. , 29.8, 22.1, 17.4, 18.1, 30.3, 17.5,\n",
              "         24.7, 12.6, 26.5, 28.7, 13.3, 10.4, 24.4, 23. , 20. , 17.8,  7. ,\n",
              "         11.8, 24.4, 13.8, 19.4, 25.2, 19.4, 19.4, 29.1])),\n",
              " (array([[1.80846e+01, 0.00000e+00, 1.81000e+01, ..., 2.02000e+01,\n",
              "          2.72500e+01, 2.90500e+01],\n",
              "         [1.23290e-01, 0.00000e+00, 1.00100e+01, ..., 1.78000e+01,\n",
              "          3.94950e+02, 1.62100e+01],\n",
              "         [5.49700e-02, 0.00000e+00, 5.19000e+00, ..., 2.02000e+01,\n",
              "          3.96900e+02, 9.74000e+00],\n",
              "         ...,\n",
              "         [1.83377e+00, 0.00000e+00, 1.95800e+01, ..., 1.47000e+01,\n",
              "          3.89610e+02, 1.92000e+00],\n",
              "         [3.58090e-01, 0.00000e+00, 6.20000e+00, ..., 1.74000e+01,\n",
              "          3.91700e+02, 9.71000e+00],\n",
              "         [2.92400e+00, 0.00000e+00, 1.95800e+01, ..., 1.47000e+01,\n",
              "          2.40160e+02, 9.81000e+00]]),\n",
              "  array([ 7.2, 18.8, 19. , 27. , 22.2, 24.5, 31.2, 22.9, 20.5, 23.2, 18.6,\n",
              "         14.5, 17.8, 50. , 20.8, 24.3, 24.2, 19.8, 19.1, 22.7, 12. , 10.2,\n",
              "         20. , 18.5, 20.9, 23. , 27.5, 30.1,  9.5, 22. , 21.2, 14.1, 33.1,\n",
              "         23.4, 20.1,  7.4, 15.4, 23.8, 20.1, 24.5, 33. , 28.4, 14.1, 46.7,\n",
              "         32.5, 29.6, 28.4, 19.8, 20.2, 25. , 35.4, 20.3,  9.7, 14.5, 34.9,\n",
              "         26.6,  7.2, 50. , 32.4, 21.6, 29.8, 13.1, 27.5, 21.2, 23.1, 21.9,\n",
              "         13. , 23.2,  8.1,  5.6, 21.7, 29.6, 19.6,  7. , 26.4, 18.9, 20.9,\n",
              "         28.1, 35.4, 10.2, 24.3, 43.1, 17.6, 15.4, 16.2, 27.1, 21.4, 21.5,\n",
              "         22.4, 25. , 16.6, 18.6, 22. , 42.8, 35.1, 21.5, 36. , 21.9, 24.1,\n",
              "         50. , 26.7, 25. ])))"
            ]
          },
          "execution_count": 3,
          "metadata": {},
          "output_type": "execute_result"
        }
      ],
      "source": [
        "df = boston_housing.load_data()\n",
        "df"
      ],
      "id": "6a7f0219"
    },
    {
      "cell_type": "code",
      "execution_count": null,
      "metadata": {
        "colab": {
          "base_uri": "https://localhost:8080/"
        },
        "id": "c664161b",
        "outputId": "2880bd89-fdae-43d3-fe19-b5d8ce380d06"
      },
      "outputs": [
        {
          "name": "stdout",
          "output_type": "stream",
          "text": [
            "train shape:  (404, 13)\n",
            "test shape:  (102, 13)\n",
            "actual train output: (404,)\n",
            "actual test output: (102,)\n"
          ]
        }
      ],
      "source": [
        "print(\"train shape: \",train_x.shape)\n",
        "print(\"test shape: \",test_x.shape)\n",
        "print(\"actual train output:\",train_y.shape)\n",
        "print(\"actual test output:\",test_y.shape)"
      ],
      "id": "c664161b"
    },
    {
      "cell_type": "code",
      "execution_count": null,
      "metadata": {
        "id": "3e6cd10e"
      },
      "outputs": [],
      "source": [
        "#normalization for preprocessing\n",
        "train_x=preprocessing.normalize(train_x)\n",
        "test_x=preprocessing.normalize(test_x)"
      ],
      "id": "3e6cd10e"
    },
    {
      "cell_type": "code",
      "execution_count": null,
      "metadata": {
        "id": "c1c3fcb3"
      },
      "outputs": [],
      "source": [
        "from tensorflow.python import metrics\n",
        "from tensorflow.keras.models import Sequential\n",
        "from tensorflow.keras.layers import *\n",
        "def HousePricePredictionModel():  \n",
        "\tmodel=Sequential()\n",
        "\tmodel.add(Dense(128,activation='relu',input_shape=(train_x[0].shape)))\n",
        "\tmodel.add(Dense(64,activation='relu'))\n",
        "\tmodel.add(Dense(32,activation='relu'))\n",
        "\tmodel.add(Dense(1))\n",
        "\tmodel.compile(optimizer='adam',loss='mse',metrics=['mae'])\n",
        "\treturn model"
      ],
      "id": "c1c3fcb3"
    },
    {
      "cell_type": "code",
      "execution_count": null,
      "metadata": {
        "id": "d55cfd2b"
      },
      "outputs": [],
      "source": [
        "import numpy as np\n",
        "k=4\n",
        "num_val_samples=len(train_x)\n",
        "num_epochs=100\n",
        "all_scores=[]"
      ],
      "id": "d55cfd2b"
    },
    {
      "cell_type": "code",
      "execution_count": null,
      "metadata": {
        "colab": {
          "base_uri": "https://localhost:8080/"
        },
        "id": "d96f40b9",
        "outputId": "915726ab-772c-4c2f-b4c3-a4b173ecb21a"
      },
      "outputs": [
        {
          "name": "stdout",
          "output_type": "stream",
          "text": [
            "Epoch 1/100\n",
            "404/404 [==============================] - 5s 6ms/step - loss: 160.3598 - mae: 9.0006 - val_loss: 69.3104 - val_mae: 5.8782\n",
            "Epoch 2/100\n",
            "404/404 [==============================] - 1s 2ms/step - loss: 65.0049 - mae: 5.7944 - val_loss: 56.8710 - val_mae: 5.5433\n",
            "Epoch 3/100\n",
            "404/404 [==============================] - 1s 2ms/step - loss: 60.1657 - mae: 5.4373 - val_loss: 65.1211 - val_mae: 6.3904\n",
            "Epoch 4/100\n",
            "404/404 [==============================] - 1s 2ms/step - loss: 57.0252 - mae: 5.2112 - val_loss: 63.8563 - val_mae: 5.6401\n",
            "Epoch 5/100\n",
            "404/404 [==============================] - 1s 2ms/step - loss: 56.2050 - mae: 5.1108 - val_loss: 54.7241 - val_mae: 5.6492\n",
            "Epoch 6/100\n",
            "404/404 [==============================] - 1s 3ms/step - loss: 54.2713 - mae: 4.9891 - val_loss: 52.8642 - val_mae: 5.1814\n",
            "Epoch 7/100\n",
            "404/404 [==============================] - 1s 3ms/step - loss: 50.8509 - mae: 4.8827 - val_loss: 51.4367 - val_mae: 5.0885\n",
            "Epoch 8/100\n",
            "404/404 [==============================] - 1s 3ms/step - loss: 50.9089 - mae: 4.8495 - val_loss: 47.6323 - val_mae: 4.8762\n",
            "Epoch 9/100\n",
            "404/404 [==============================] - 1s 2ms/step - loss: 47.7158 - mae: 4.7489 - val_loss: 43.9407 - val_mae: 4.7946\n",
            "Epoch 10/100\n",
            "404/404 [==============================] - 1s 2ms/step - loss: 44.1607 - mae: 4.5029 - val_loss: 42.1492 - val_mae: 4.5420\n",
            "Epoch 11/100\n",
            "404/404 [==============================] - 1s 2ms/step - loss: 43.4061 - mae: 4.5243 - val_loss: 47.0433 - val_mae: 4.7657\n",
            "Epoch 12/100\n",
            "404/404 [==============================] - 1s 2ms/step - loss: 43.0258 - mae: 4.5024 - val_loss: 39.3309 - val_mae: 4.6674\n",
            "Epoch 13/100\n",
            "404/404 [==============================] - 1s 2ms/step - loss: 37.9147 - mae: 4.2617 - val_loss: 36.2505 - val_mae: 4.2773\n",
            "Epoch 14/100\n",
            "404/404 [==============================] - 1s 2ms/step - loss: 37.8135 - mae: 4.2967 - val_loss: 34.0920 - val_mae: 4.1408\n",
            "Epoch 15/100\n",
            "404/404 [==============================] - 1s 2ms/step - loss: 35.6193 - mae: 4.1741 - val_loss: 32.9190 - val_mae: 4.1527\n",
            "Epoch 16/100\n",
            "404/404 [==============================] - 1s 2ms/step - loss: 33.1718 - mae: 4.1079 - val_loss: 30.5693 - val_mae: 3.9058\n",
            "Epoch 17/100\n",
            "404/404 [==============================] - 1s 2ms/step - loss: 32.5135 - mae: 4.0112 - val_loss: 29.7054 - val_mae: 3.9675\n",
            "Epoch 18/100\n",
            "404/404 [==============================] - 1s 2ms/step - loss: 32.7725 - mae: 4.0372 - val_loss: 30.7448 - val_mae: 3.9812\n",
            "Epoch 19/100\n",
            "404/404 [==============================] - 1s 3ms/step - loss: 31.0779 - mae: 4.0169 - val_loss: 30.2038 - val_mae: 3.9602\n",
            "Epoch 20/100\n",
            "404/404 [==============================] - 2s 4ms/step - loss: 28.3968 - mae: 3.8226 - val_loss: 29.0425 - val_mae: 3.9568\n",
            "Epoch 21/100\n",
            "404/404 [==============================] - 1s 2ms/step - loss: 28.1237 - mae: 3.8366 - val_loss: 27.9920 - val_mae: 3.9655\n",
            "Epoch 22/100\n",
            "404/404 [==============================] - 1s 2ms/step - loss: 28.0575 - mae: 3.8866 - val_loss: 44.8495 - val_mae: 4.7251\n",
            "Epoch 23/100\n",
            "404/404 [==============================] - 1s 2ms/step - loss: 26.1512 - mae: 3.6969 - val_loss: 29.1538 - val_mae: 3.8282\n",
            "Epoch 24/100\n",
            "404/404 [==============================] - 1s 2ms/step - loss: 25.1196 - mae: 3.7399 - val_loss: 29.0535 - val_mae: 3.8474\n",
            "Epoch 25/100\n",
            "404/404 [==============================] - 1s 2ms/step - loss: 23.6088 - mae: 3.5417 - val_loss: 28.2529 - val_mae: 3.9293\n",
            "Epoch 26/100\n",
            "404/404 [==============================] - 1s 2ms/step - loss: 24.4188 - mae: 3.6055 - val_loss: 28.4765 - val_mae: 3.8557\n",
            "Epoch 27/100\n",
            "404/404 [==============================] - 1s 2ms/step - loss: 23.5726 - mae: 3.4765 - val_loss: 33.3507 - val_mae: 4.1422\n",
            "Epoch 28/100\n",
            "404/404 [==============================] - 1s 2ms/step - loss: 21.8203 - mae: 3.4596 - val_loss: 30.8252 - val_mae: 3.9488\n",
            "Epoch 29/100\n",
            "404/404 [==============================] - 1s 2ms/step - loss: 21.6837 - mae: 3.4178 - val_loss: 29.0302 - val_mae: 3.8094\n",
            "Epoch 30/100\n",
            "404/404 [==============================] - 1s 2ms/step - loss: 20.3485 - mae: 3.2544 - val_loss: 35.5376 - val_mae: 4.2426\n",
            "Epoch 31/100\n",
            "404/404 [==============================] - 1s 3ms/step - loss: 20.2968 - mae: 3.3402 - val_loss: 28.5604 - val_mae: 3.7858\n",
            "Epoch 32/100\n",
            "404/404 [==============================] - 2s 4ms/step - loss: 19.4513 - mae: 3.2269 - val_loss: 28.8011 - val_mae: 3.7835\n",
            "Epoch 33/100\n",
            "404/404 [==============================] - 1s 3ms/step - loss: 19.5980 - mae: 3.2516 - val_loss: 28.2968 - val_mae: 3.7566\n",
            "Epoch 34/100\n",
            "404/404 [==============================] - 1s 2ms/step - loss: 21.3088 - mae: 3.2231 - val_loss: 27.1030 - val_mae: 3.7351\n",
            "Epoch 35/100\n",
            "404/404 [==============================] - 1s 2ms/step - loss: 20.1947 - mae: 3.2660 - val_loss: 28.9848 - val_mae: 3.7842\n",
            "Epoch 36/100\n",
            "404/404 [==============================] - 1s 2ms/step - loss: 18.4744 - mae: 3.1633 - val_loss: 28.5972 - val_mae: 3.7760\n",
            "Epoch 37/100\n",
            "404/404 [==============================] - 1s 2ms/step - loss: 19.1905 - mae: 3.2067 - val_loss: 30.9888 - val_mae: 3.9390\n",
            "Epoch 38/100\n",
            "404/404 [==============================] - 1s 2ms/step - loss: 20.3088 - mae: 3.3931 - val_loss: 29.4854 - val_mae: 3.9188\n",
            "Epoch 39/100\n",
            "404/404 [==============================] - 1s 2ms/step - loss: 18.5038 - mae: 3.1795 - val_loss: 33.0909 - val_mae: 4.0281\n",
            "Epoch 40/100\n",
            "404/404 [==============================] - 1s 2ms/step - loss: 19.1302 - mae: 3.2186 - val_loss: 32.9581 - val_mae: 4.1899\n",
            "Epoch 41/100\n",
            "404/404 [==============================] - 1s 2ms/step - loss: 19.0747 - mae: 3.1666 - val_loss: 34.7399 - val_mae: 4.1595\n",
            "Epoch 42/100\n",
            "404/404 [==============================] - 1s 2ms/step - loss: 17.0483 - mae: 3.0874 - val_loss: 29.0121 - val_mae: 3.8961\n",
            "Epoch 43/100\n",
            "404/404 [==============================] - 1s 2ms/step - loss: 20.8110 - mae: 3.3657 - val_loss: 33.2021 - val_mae: 3.9926\n",
            "Epoch 44/100\n",
            "404/404 [==============================] - 1s 3ms/step - loss: 18.2384 - mae: 3.0447 - val_loss: 33.2501 - val_mae: 4.0346\n",
            "Epoch 45/100\n",
            "404/404 [==============================] - 1s 4ms/step - loss: 17.2583 - mae: 3.0454 - val_loss: 35.1253 - val_mae: 4.1453\n",
            "Epoch 46/100\n",
            "404/404 [==============================] - 1s 2ms/step - loss: 15.8434 - mae: 2.8978 - val_loss: 62.9464 - val_mae: 5.9639\n",
            "Epoch 47/100\n",
            "404/404 [==============================] - 1s 2ms/step - loss: 17.0100 - mae: 3.0196 - val_loss: 32.5379 - val_mae: 3.9754\n",
            "Epoch 48/100\n",
            "404/404 [==============================] - 1s 2ms/step - loss: 18.4308 - mae: 3.0968 - val_loss: 40.7390 - val_mae: 4.8446\n",
            "Epoch 49/100\n",
            "404/404 [==============================] - 1s 2ms/step - loss: 16.7573 - mae: 2.9937 - val_loss: 28.8854 - val_mae: 3.7111\n",
            "Epoch 50/100\n",
            "404/404 [==============================] - 1s 2ms/step - loss: 17.0075 - mae: 3.0262 - val_loss: 29.3006 - val_mae: 3.7538\n",
            "Epoch 51/100\n",
            "404/404 [==============================] - 1s 2ms/step - loss: 18.0950 - mae: 3.0577 - val_loss: 28.1776 - val_mae: 3.7407\n",
            "Epoch 52/100\n",
            "404/404 [==============================] - 1s 2ms/step - loss: 17.0525 - mae: 2.9452 - val_loss: 28.6235 - val_mae: 3.7837\n",
            "Epoch 53/100\n",
            "404/404 [==============================] - 1s 2ms/step - loss: 18.2940 - mae: 3.1101 - val_loss: 32.2350 - val_mae: 4.1701\n",
            "Epoch 54/100\n",
            "404/404 [==============================] - 1s 2ms/step - loss: 20.2182 - mae: 3.1870 - val_loss: 34.7149 - val_mae: 4.0520\n",
            "Epoch 55/100\n",
            "404/404 [==============================] - 1s 2ms/step - loss: 17.0734 - mae: 2.9845 - val_loss: 37.9957 - val_mae: 4.4169\n",
            "Epoch 56/100\n",
            "404/404 [==============================] - 1s 3ms/step - loss: 17.3382 - mae: 3.0078 - val_loss: 30.8556 - val_mae: 3.8542\n",
            "Epoch 57/100\n",
            "404/404 [==============================] - 1s 3ms/step - loss: 17.0709 - mae: 3.1359 - val_loss: 30.6162 - val_mae: 3.9284\n",
            "Epoch 58/100\n",
            "404/404 [==============================] - 1s 3ms/step - loss: 17.0169 - mae: 3.0295 - val_loss: 34.7918 - val_mae: 4.0483\n",
            "Epoch 59/100\n",
            "404/404 [==============================] - 1s 2ms/step - loss: 17.1453 - mae: 3.0306 - val_loss: 30.5225 - val_mae: 3.7794\n",
            "Epoch 60/100\n",
            "404/404 [==============================] - 1s 2ms/step - loss: 16.8718 - mae: 2.9155 - val_loss: 27.6186 - val_mae: 3.6213\n",
            "Epoch 61/100\n",
            "404/404 [==============================] - 1s 2ms/step - loss: 16.0422 - mae: 2.8786 - val_loss: 28.5343 - val_mae: 3.6435\n",
            "Epoch 62/100\n",
            "404/404 [==============================] - 1s 2ms/step - loss: 16.2135 - mae: 2.9306 - val_loss: 29.9334 - val_mae: 3.6989\n",
            "Epoch 63/100\n",
            "404/404 [==============================] - 1s 2ms/step - loss: 17.7852 - mae: 3.0456 - val_loss: 29.2768 - val_mae: 3.7192\n",
            "Epoch 64/100\n",
            "404/404 [==============================] - 1s 2ms/step - loss: 17.8618 - mae: 2.9773 - val_loss: 28.5055 - val_mae: 3.6382\n",
            "Epoch 65/100\n",
            "404/404 [==============================] - 1s 2ms/step - loss: 16.7515 - mae: 2.9778 - val_loss: 26.8895 - val_mae: 3.7599\n",
            "Epoch 66/100\n",
            "404/404 [==============================] - 1s 2ms/step - loss: 16.9741 - mae: 2.9629 - val_loss: 28.9382 - val_mae: 3.6232\n",
            "Epoch 67/100\n",
            "404/404 [==============================] - 1s 2ms/step - loss: 18.0987 - mae: 3.1428 - val_loss: 39.9178 - val_mae: 4.4213\n",
            "Epoch 68/100\n",
            "404/404 [==============================] - 1s 2ms/step - loss: 17.4611 - mae: 2.9529 - val_loss: 31.7815 - val_mae: 3.7910\n",
            "Epoch 69/100\n",
            "404/404 [==============================] - 1s 3ms/step - loss: 15.4263 - mae: 2.8870 - val_loss: 33.8277 - val_mae: 3.9821\n",
            "Epoch 70/100\n",
            "404/404 [==============================] - 1s 3ms/step - loss: 16.4134 - mae: 2.8086 - val_loss: 35.4850 - val_mae: 3.9172\n",
            "Epoch 71/100\n",
            "315/404 [======================>.......] - ETA: 0s - loss: 17.4150 - mae: 3.0230"
          ]
        }
      ],
      "source": [
        "model= HousePricePredictionModel()\n",
        "history=model.fit(x=train_x,y=train_y,epochs=num_epochs,batch_size=1,verbose=1,validation_data=(test_x,test_y))"
      ],
      "id": "d96f40b9"
    },
    {
      "cell_type": "code",
      "execution_count": null,
      "metadata": {
        "colab": {
          "background_save": true
        },
        "id": "ddfaa157",
        "outputId": "65b76799-2fe6-4865-efd0-a0a2dca08a4b"
      },
      "outputs": [
        {
          "name": "stdout",
          "output_type": "stream",
          "text": [
            "4/4 [==============================] - 0s 5ms/step - loss: 38.8821 - mae: 4.0969\n",
            "Mean squared error on test data:  38.88214874267578\n",
            "Mean absolute error on test data:  4.096892833709717\n"
          ]
        }
      ],
      "source": [
        "mse, mae = model.evaluate(test_x, test_y)\n",
        "print('Mean squared error on test data: ', mse)\n",
        "print('Mean absolute error on test data: ', mae)"
      ],
      "id": "ddfaa157"
    },
    {
      "cell_type": "code",
      "execution_count": null,
      "metadata": {
        "colab": {
          "background_save": true
        },
        "id": "2c35b267"
      },
      "outputs": [],
      "source": [],
      "id": "2c35b267"
    },
    {
      "cell_type": "code",
      "execution_count": null,
      "metadata": {
        "colab": {
          "background_save": true
        },
        "id": "12ab9568"
      },
      "outputs": [],
      "source": [],
      "id": "12ab9568"
    }
  ],
  "metadata": {
    "colab": {
      "provenance": []
    },
    "kernelspec": {
      "display_name": "Python 3 (ipykernel)",
      "language": "python",
      "name": "python3"
    },
    "language_info": {
      "codemirror_mode": {
        "name": "ipython",
        "version": 3
      },
      "file_extension": ".py",
      "mimetype": "text/x-python",
      "name": "python",
      "nbconvert_exporter": "python",
      "pygments_lexer": "ipython3",
      "version": "3.11.0"
    }
  },
  "nbformat": 4,
  "nbformat_minor": 5
}