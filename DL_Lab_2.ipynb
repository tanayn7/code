{
  "cells": [
    {
      "cell_type": "code",
      "execution_count": 1,
      "metadata": {
        "id": "yn9xz9OUFGi1"
      },
      "outputs": [],
      "source": [
        "from keras.datasets import imdb"
      ]
    },
    {
      "cell_type": "code",
      "execution_count": 2,
      "metadata": {
        "id": "KB1UZItVFXPp",
        "colab": {
          "base_uri": "https://localhost:8080/"
        },
        "outputId": "43524e61-af4c-41e3-bc0f-9d295bafd119"
      },
      "outputs": [
        {
          "output_type": "stream",
          "name": "stdout",
          "text": [
            "Downloading data from https://storage.googleapis.com/tensorflow/tf-keras-datasets/imdb.npz\n",
            "17464789/17464789 [==============================] - 0s 0us/step\n"
          ]
        }
      ],
      "source": [
        "(train_data,train_labels),(test_data,test_labels)=imdb.load_data(num_words=10000)\n",
        "\n",
        "#x_test = test_data"
      ]
    },
    {
      "cell_type": "code",
      "execution_count": 3,
      "metadata": {
        "colab": {
          "base_uri": "https://localhost:8080/"
        },
        "id": "BtShX5qhFuum",
        "outputId": "f2827c85-62c5-40fd-ae79-7fae5125b4e3"
      },
      "outputs": [
        {
          "output_type": "execute_result",
          "data": {
            "text/plain": [
              "[1,\n",
              " 14,\n",
              " 22,\n",
              " 16,\n",
              " 43,\n",
              " 530,\n",
              " 973,\n",
              " 1622,\n",
              " 1385,\n",
              " 65,\n",
              " 458,\n",
              " 4468,\n",
              " 66,\n",
              " 3941,\n",
              " 4,\n",
              " 173,\n",
              " 36,\n",
              " 256,\n",
              " 5,\n",
              " 25,\n",
              " 100,\n",
              " 43,\n",
              " 838,\n",
              " 112,\n",
              " 50,\n",
              " 670,\n",
              " 2,\n",
              " 9,\n",
              " 35,\n",
              " 480,\n",
              " 284,\n",
              " 5,\n",
              " 150,\n",
              " 4,\n",
              " 172,\n",
              " 112,\n",
              " 167,\n",
              " 2,\n",
              " 336,\n",
              " 385,\n",
              " 39,\n",
              " 4,\n",
              " 172,\n",
              " 4536,\n",
              " 1111,\n",
              " 17,\n",
              " 546,\n",
              " 38,\n",
              " 13,\n",
              " 447,\n",
              " 4,\n",
              " 192,\n",
              " 50,\n",
              " 16,\n",
              " 6,\n",
              " 147,\n",
              " 2025,\n",
              " 19,\n",
              " 14,\n",
              " 22,\n",
              " 4,\n",
              " 1920,\n",
              " 4613,\n",
              " 469,\n",
              " 4,\n",
              " 22,\n",
              " 71,\n",
              " 87,\n",
              " 12,\n",
              " 16,\n",
              " 43,\n",
              " 530,\n",
              " 38,\n",
              " 76,\n",
              " 15,\n",
              " 13,\n",
              " 1247,\n",
              " 4,\n",
              " 22,\n",
              " 17,\n",
              " 515,\n",
              " 17,\n",
              " 12,\n",
              " 16,\n",
              " 626,\n",
              " 18,\n",
              " 2,\n",
              " 5,\n",
              " 62,\n",
              " 386,\n",
              " 12,\n",
              " 8,\n",
              " 316,\n",
              " 8,\n",
              " 106,\n",
              " 5,\n",
              " 4,\n",
              " 2223,\n",
              " 5244,\n",
              " 16,\n",
              " 480,\n",
              " 66,\n",
              " 3785,\n",
              " 33,\n",
              " 4,\n",
              " 130,\n",
              " 12,\n",
              " 16,\n",
              " 38,\n",
              " 619,\n",
              " 5,\n",
              " 25,\n",
              " 124,\n",
              " 51,\n",
              " 36,\n",
              " 135,\n",
              " 48,\n",
              " 25,\n",
              " 1415,\n",
              " 33,\n",
              " 6,\n",
              " 22,\n",
              " 12,\n",
              " 215,\n",
              " 28,\n",
              " 77,\n",
              " 52,\n",
              " 5,\n",
              " 14,\n",
              " 407,\n",
              " 16,\n",
              " 82,\n",
              " 2,\n",
              " 8,\n",
              " 4,\n",
              " 107,\n",
              " 117,\n",
              " 5952,\n",
              " 15,\n",
              " 256,\n",
              " 4,\n",
              " 2,\n",
              " 7,\n",
              " 3766,\n",
              " 5,\n",
              " 723,\n",
              " 36,\n",
              " 71,\n",
              " 43,\n",
              " 530,\n",
              " 476,\n",
              " 26,\n",
              " 400,\n",
              " 317,\n",
              " 46,\n",
              " 7,\n",
              " 4,\n",
              " 2,\n",
              " 1029,\n",
              " 13,\n",
              " 104,\n",
              " 88,\n",
              " 4,\n",
              " 381,\n",
              " 15,\n",
              " 297,\n",
              " 98,\n",
              " 32,\n",
              " 2071,\n",
              " 56,\n",
              " 26,\n",
              " 141,\n",
              " 6,\n",
              " 194,\n",
              " 7486,\n",
              " 18,\n",
              " 4,\n",
              " 226,\n",
              " 22,\n",
              " 21,\n",
              " 134,\n",
              " 476,\n",
              " 26,\n",
              " 480,\n",
              " 5,\n",
              " 144,\n",
              " 30,\n",
              " 5535,\n",
              " 18,\n",
              " 51,\n",
              " 36,\n",
              " 28,\n",
              " 224,\n",
              " 92,\n",
              " 25,\n",
              " 104,\n",
              " 4,\n",
              " 226,\n",
              " 65,\n",
              " 16,\n",
              " 38,\n",
              " 1334,\n",
              " 88,\n",
              " 12,\n",
              " 16,\n",
              " 283,\n",
              " 5,\n",
              " 16,\n",
              " 4472,\n",
              " 113,\n",
              " 103,\n",
              " 32,\n",
              " 15,\n",
              " 16,\n",
              " 5345,\n",
              " 19,\n",
              " 178,\n",
              " 32]"
            ]
          },
          "metadata": {},
          "execution_count": 3
        }
      ],
      "source": [
        "train_data[0]"
      ]
    },
    {
      "cell_type": "code",
      "execution_count": 4,
      "metadata": {
        "colab": {
          "base_uri": "https://localhost:8080/"
        },
        "id": "RxeJvAXUFykt",
        "outputId": "b74b2cd9-042b-4958-c143-0ec08cf37a92"
      },
      "outputs": [
        {
          "output_type": "execute_result",
          "data": {
            "text/plain": [
              "1"
            ]
          },
          "metadata": {},
          "execution_count": 4
        }
      ],
      "source": [
        "train_labels[0]"
      ]
    },
    {
      "cell_type": "code",
      "execution_count": 5,
      "metadata": {
        "id": "fnEPCzbmF5eY",
        "colab": {
          "base_uri": "https://localhost:8080/"
        },
        "outputId": "b4d36832-462d-43f2-a906-aad59e1f34f6"
      },
      "outputs": [
        {
          "output_type": "stream",
          "name": "stdout",
          "text": [
            "Downloading data from https://storage.googleapis.com/tensorflow/tf-keras-datasets/imdb_word_index.json\n",
            "1641221/1641221 [==============================] - 0s 0us/step\n"
          ]
        }
      ],
      "source": [
        "word_index=imdb.get_word_index()\n",
        "reverse_word_index=dict([value,key] for (key,value) in word_index.items())\n",
        "decoded_review = ' '.join([reverse_word_index.get(i-3,'?') for i in train_data[0]])"
      ]
    },
    {
      "cell_type": "code",
      "execution_count": 6,
      "metadata": {
        "colab": {
          "base_uri": "https://localhost:8080/",
          "height": 140
        },
        "id": "fQ49X5nyGoA7",
        "outputId": "a0873e82-a7b3-4780-8547-4e148d0f4f03"
      },
      "outputs": [
        {
          "output_type": "execute_result",
          "data": {
            "text/plain": [
              "\"? this film was just brilliant casting location scenery story direction everyone's really suited the part they played and you could just imagine being there robert ? is an amazing actor and now the same being director ? father came from the same scottish island as myself so i loved the fact there was a real connection with this film the witty remarks throughout the film were great it was just brilliant so much that i bought the film as soon as it was released for ? and would recommend it to everyone to watch and the fly fishing was amazing really cried at the end it was so sad and you know what they say if you cry at a film it must have been good and this definitely was also ? to the two little boy's that played the ? of norman and paul they were just brilliant children are often left out of the ? list i think because the stars that play them all grown up are such a big profile for the whole film but these children are amazing and should be praised for what they have done don't you think the whole story was so lovely because it was true and was someone's life after all that was shared with us all\""
            ],
            "application/vnd.google.colaboratory.intrinsic+json": {
              "type": "string"
            }
          },
          "metadata": {},
          "execution_count": 6
        }
      ],
      "source": [
        "decoded_review"
      ]
    },
    {
      "cell_type": "code",
      "execution_count": 7,
      "metadata": {
        "id": "2f25pEG5GuwB"
      },
      "outputs": [],
      "source": [
        "#prepare the data\n",
        "import numpy as np"
      ]
    },
    {
      "cell_type": "code",
      "execution_count": 8,
      "metadata": {
        "id": "piWYU01oHBLc"
      },
      "outputs": [],
      "source": [
        "#perform one_hot vector encoding\n",
        "def vectorize(sequences,dimensions=10000):\n",
        "  results = np.zeros((len(sequences),dimensions))\n",
        "  for i, sequences in enumerate(sequences):\n",
        "    results[i,sequences]=1\n",
        "  return results"
      ]
    },
    {
      "cell_type": "code",
      "execution_count": 9,
      "metadata": {
        "id": "lbP9MM67Hh3_"
      },
      "outputs": [],
      "source": [
        "x_train=vectorize(train_data)"
      ]
    },
    {
      "cell_type": "code",
      "execution_count": 10,
      "metadata": {
        "colab": {
          "base_uri": "https://localhost:8080/"
        },
        "id": "W0cHWSJRHy34",
        "outputId": "02d9d0ea-6609-4717-c639-840c3eb1742c"
      },
      "outputs": [
        {
          "output_type": "execute_result",
          "data": {
            "text/plain": [
              "array([0., 1., 1., ..., 0., 0., 0.])"
            ]
          },
          "metadata": {},
          "execution_count": 10
        }
      ],
      "source": [
        "x_train[0]"
      ]
    },
    {
      "cell_type": "code",
      "execution_count": 11,
      "metadata": {
        "id": "2-C7M5cOICGv"
      },
      "outputs": [],
      "source": [
        "y_train = np.asarray(train_labels).astype('float32')\n",
        "y_test = np.asarray(test_labels).astype('float32')"
      ]
    },
    {
      "cell_type": "code",
      "execution_count": 12,
      "metadata": {
        "id": "aDFLDkAxIWhd"
      },
      "outputs": [],
      "source": [
        "#building the network\n",
        "from keras import models\n",
        "from keras import layers"
      ]
    },
    {
      "cell_type": "code",
      "execution_count": 13,
      "metadata": {
        "id": "r8JOkQO9IfzA"
      },
      "outputs": [],
      "source": [
        "model = models.Sequential()"
      ]
    },
    {
      "cell_type": "code",
      "execution_count": 14,
      "metadata": {
        "id": "S0sJGscSInWy"
      },
      "outputs": [],
      "source": [
        "model.add(layers.Dense(16,activation='relu',input_shape=(10000,)))\n",
        "model.add(layers.Dense(16,activation='relu'))\n",
        "model.add(layers.Dense(1,activation = 'sigmoid'))"
      ]
    },
    {
      "cell_type": "code",
      "execution_count": 15,
      "metadata": {
        "id": "GywZ4EqiKyea"
      },
      "outputs": [],
      "source": [
        "#compilation step \n",
        "#from keras import util.custom_object_scope\n",
        "model.compile(optimizer='RMSprop',loss='binary_crossentropy',metrics=['accuracy'])"
      ]
    },
    {
      "cell_type": "code",
      "execution_count": 16,
      "metadata": {
        "id": "jO6e4iEILJLF"
      },
      "outputs": [],
      "source": [
        "#validating the approach\n",
        "x_val = x_train[:10000]\n",
        "partial_x_train = x_train[10000:]"
      ]
    },
    {
      "cell_type": "code",
      "execution_count": 17,
      "metadata": {
        "id": "--7Idbt_La2I"
      },
      "outputs": [],
      "source": [
        "y_val = y_train[:10000]\n",
        "partial_y_train = y_train[10000:]"
      ]
    },
    {
      "cell_type": "code",
      "execution_count": 18,
      "metadata": {
        "colab": {
          "base_uri": "https://localhost:8080/"
        },
        "id": "fGiytF1ULgsp",
        "outputId": "88f285d3-0462-41eb-e702-5609afdb8380"
      },
      "outputs": [
        {
          "output_type": "stream",
          "name": "stdout",
          "text": [
            "Epoch 1/20\n",
            "30/30 [==============================] - 4s 87ms/step - loss: 0.5943 - accuracy: 0.7388 - val_loss: 0.4732 - val_accuracy: 0.8519\n",
            "Epoch 2/20\n",
            "30/30 [==============================] - 2s 58ms/step - loss: 0.3918 - accuracy: 0.8839 - val_loss: 0.3710 - val_accuracy: 0.8568\n",
            "Epoch 3/20\n",
            "30/30 [==============================] - 2s 58ms/step - loss: 0.2856 - accuracy: 0.9128 - val_loss: 0.3031 - val_accuracy: 0.8876\n",
            "Epoch 4/20\n",
            "30/30 [==============================] - 2s 58ms/step - loss: 0.2265 - accuracy: 0.9285 - val_loss: 0.2860 - val_accuracy: 0.8868\n",
            "Epoch 5/20\n",
            "30/30 [==============================] - 2s 81ms/step - loss: 0.1892 - accuracy: 0.9387 - val_loss: 0.2762 - val_accuracy: 0.8895\n",
            "Epoch 6/20\n",
            "30/30 [==============================] - 2s 50ms/step - loss: 0.1600 - accuracy: 0.9485 - val_loss: 0.2975 - val_accuracy: 0.8788\n",
            "Epoch 7/20\n",
            "30/30 [==============================] - 2s 58ms/step - loss: 0.1387 - accuracy: 0.9576 - val_loss: 0.2918 - val_accuracy: 0.8823\n",
            "Epoch 8/20\n",
            "30/30 [==============================] - 2s 59ms/step - loss: 0.1203 - accuracy: 0.9641 - val_loss: 0.2947 - val_accuracy: 0.8838\n",
            "Epoch 9/20\n",
            "30/30 [==============================] - 2s 60ms/step - loss: 0.1037 - accuracy: 0.9697 - val_loss: 0.3246 - val_accuracy: 0.8748\n",
            "Epoch 10/20\n",
            "30/30 [==============================] - 1s 48ms/step - loss: 0.0910 - accuracy: 0.9752 - val_loss: 0.3212 - val_accuracy: 0.8795\n",
            "Epoch 11/20\n",
            "30/30 [==============================] - 2s 50ms/step - loss: 0.0797 - accuracy: 0.9794 - val_loss: 0.3506 - val_accuracy: 0.8789\n",
            "Epoch 12/20\n",
            "30/30 [==============================] - 2s 74ms/step - loss: 0.0677 - accuracy: 0.9836 - val_loss: 0.3501 - val_accuracy: 0.8798\n",
            "Epoch 13/20\n",
            "30/30 [==============================] - 2s 76ms/step - loss: 0.0586 - accuracy: 0.9871 - val_loss: 0.3766 - val_accuracy: 0.8723\n",
            "Epoch 14/20\n",
            "30/30 [==============================] - 2s 59ms/step - loss: 0.0504 - accuracy: 0.9895 - val_loss: 0.3962 - val_accuracy: 0.8719\n",
            "Epoch 15/20\n",
            "30/30 [==============================] - 2s 61ms/step - loss: 0.0409 - accuracy: 0.9928 - val_loss: 0.4110 - val_accuracy: 0.8762\n",
            "Epoch 16/20\n",
            "30/30 [==============================] - 2s 58ms/step - loss: 0.0361 - accuracy: 0.9939 - val_loss: 0.4903 - val_accuracy: 0.8571\n",
            "Epoch 17/20\n",
            "30/30 [==============================] - 2s 59ms/step - loss: 0.0321 - accuracy: 0.9943 - val_loss: 0.4494 - val_accuracy: 0.8753\n",
            "Epoch 18/20\n",
            "30/30 [==============================] - 2s 58ms/step - loss: 0.0240 - accuracy: 0.9971 - val_loss: 0.5510 - val_accuracy: 0.8649\n",
            "Epoch 19/20\n",
            "30/30 [==============================] - 2s 73ms/step - loss: 0.0224 - accuracy: 0.9973 - val_loss: 0.4961 - val_accuracy: 0.8723\n",
            "Epoch 20/20\n",
            "30/30 [==============================] - 2s 77ms/step - loss: 0.0190 - accuracy: 0.9976 - val_loss: 0.5139 - val_accuracy: 0.8723\n"
          ]
        }
      ],
      "source": [
        "#fit the model\n",
        "history=model.fit(partial_x_train,partial_y_train,epochs=20, batch_size=512, validation_data=(x_val,y_val))"
      ]
    },
    {
      "cell_type": "code",
      "execution_count": 19,
      "metadata": {
        "id": "opFsRjGnMHSj"
      },
      "outputs": [],
      "source": [
        "history_dict = history.history"
      ]
    },
    {
      "cell_type": "code",
      "execution_count": 20,
      "metadata": {
        "colab": {
          "base_uri": "https://localhost:8080/"
        },
        "id": "M2S1B7zZMh2r",
        "outputId": "47022198-a678-474e-8188-55d6636ef313"
      },
      "outputs": [
        {
          "output_type": "execute_result",
          "data": {
            "text/plain": [
              "dict_keys(['loss', 'accuracy', 'val_loss', 'val_accuracy'])"
            ]
          },
          "metadata": {},
          "execution_count": 20
        }
      ],
      "source": [
        "history_dict.keys()"
      ]
    },
    {
      "cell_type": "code",
      "execution_count": 21,
      "metadata": {
        "id": "jxiEsbXLMOxV"
      },
      "outputs": [],
      "source": [
        "acc = history_dict['accuracy']\n",
        "val_loss = history_dict['val_loss']\n",
        "val_acc = history_dict['val_accuracy']\n",
        "loss = history_dict['loss']"
      ]
    },
    {
      "cell_type": "code",
      "execution_count": 22,
      "metadata": {
        "colab": {
          "base_uri": "https://localhost:8080/",
          "height": 472
        },
        "id": "uL2lsvJgL4e7",
        "outputId": "4e3e6756-301f-4b9f-9052-bb8f5740b39e"
      },
      "outputs": [
        {
          "output_type": "display_data",
          "data": {
            "text/plain": [
              "<Figure size 640x480 with 1 Axes>"
            ],
            "image/png": "[encoded data removed]"
          },
          "metadata": {}
        }
      ],
      "source": [
        "#plotting training and validation loss\n",
        "import matplotlib.pyplot as plt\n",
        "epochs = range(1, len(acc)+1)\n",
        "plt.plot(epochs, loss, 'bo', label = 'training loss')\n",
        "plt.plot(epochs, val_loss,'b', label = 'validation loss')\n",
        "plt.title('Training and validation loss')\n",
        "plt.xlabel('Epochs')\n",
        "plt.ylabel('Loss')\n",
        "plt.legend()\n",
        "plt.show()"
      ]
    },
    {
      "cell_type": "code",
      "execution_count": 23,
      "metadata": {
        "colab": {
          "base_uri": "https://localhost:8080/",
          "height": 489
        },
        "id": "WQ3PNwidO9ue",
        "outputId": "a82cd647-a855-4b95-da80-55b320c6cef0"
      },
      "outputs": [
        {
          "output_type": "execute_result",
          "data": {
            "text/plain": [
              "<matplotlib.legend.Legend at 0x7f89fb4616f0>"
            ]
          },
          "metadata": {},
          "execution_count": 23
        },
        {
          "output_type": "display_data",
          "data": {
            "text/plain": [
              "<Figure size 640x480 with 1 Axes>"
            ],
            "image/png": "[encoded data removed]"
          },
          "metadata": {}
        }
      ],
      "source": [
        "plt.clf()\n",
        "plt.plot(epochs, acc, 'bo',label='Training acc')\n",
        "plt.plot(epochs, val_acc, 'b', label='Validation acc')\n",
        "plt.title('Training and Validation accuracy')\n",
        "plt.xlabel('Epochs')\n",
        "plt.ylabel('Accuracy')\n",
        "plt.legend()"
      ]
    },
    {
      "cell_type": "code",
      "execution_count": 24,
      "metadata": {
        "colab": {
          "base_uri": "https://localhost:8080/"
        },
        "id": "RXP9smITQEtC",
        "outputId": "28e9b33f-36a9-436c-923f-2dd08543e852"
      },
      "outputs": [
        {
          "output_type": "stream",
          "name": "stdout",
          "text": [
            "0.9565266609191895\n"
          ]
        }
      ],
      "source": [
        "import numpy as np\n",
        "#result = model.predict(test_data)\n",
        "print(np.mean(history_dict['accuracy']))\n",
        "#print(history_dict)"
      ]
    },
    {
      "cell_type": "code",
      "execution_count": 25,
      "metadata": {
        "id": "YC1JbQzb_WxR"
      },
      "outputs": [],
      "source": [
        "#Out put analysis,\n",
        "#[0.9865479] is a single prediction value for a particular input sample in the test data. \n",
        "#It is the predicted probability of the positive sentiment class (class 1) for that input.\n",
        "#Since the output activation function of the last layer of the model is sigmoid, which maps the predicted values to a range of [0,1]\n",
        "#,the output values represent the probabilities of the positive class. \n",
        "#In this case, the probability of the positive class for the given input sample is 0.9865479, which is very close to 1, indicating that the model is highly confident in predicting the positive class for that input."
      ]
    }
  ],
  "metadata": {
    "colab": {
      "provenance": []
    },
    "kernelspec": {
      "display_name": "Python 3 (ipykernel)",
      "language": "python",
      "name": "python3"
    },
    "language_info": {
      "codemirror_mode": {
        "name": "ipython",
        "version": 3
      },
      "file_extension": ".py",
      "mimetype": "text/x-python",
      "name": "python",
      "nbconvert_exporter": "python",
      "pygments_lexer": "ipython3",
      "version": "3.11.0"
    }
  },
  "nbformat": 4,
  "nbformat_minor": 0
}